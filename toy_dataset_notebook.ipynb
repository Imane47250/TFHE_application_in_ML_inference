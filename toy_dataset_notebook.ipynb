{
  "cells": [
    {
      "cell_type": "markdown",
      "source": [
        "# Toy Experiment: Encrypted Inference with TFHE (Concrete-ML)\n",
        "\n",
        "This notebook presents a first experiment with **Fully Homomorphic Encryption (FHE)** using the `concrete-ml` library.  \n",
        "We use the **Digits dataset** (8×8 grayscale images of handwritten digits) as a *toy dataset* to validate the workflow before moving to larger datasets such as MNIST or CIFAR.\n",
        "\n",
        "The notebook follows a simple pipeline:\n",
        "\n",
        "1. **Data preparation**  \n",
        "   - Load the Digits dataset  \n",
        "   - Normalize the pixel values and split into training and test sets  \n",
        "   - Visualize some samples and the class distribution  \n",
        "\n",
        "2. **Training in clear**  \n",
        "   - Train a quantized neural network (Multi-Layer Perceptron with 2 hidden layers, 5-bit weights and activations)  \n",
        "   - Evaluate accuracy on the test set  \n",
        "   - Inspect the confusion matrix and some example predictions  \n",
        "\n",
        "3. **Compilation to FHE**  \n",
        "   - Compile the trained model into an FHE-compatible circuit  \n",
        "   - Run predictions in two modes:  \n",
        "     - **simulate**: runs the encrypted circuit on plaintext (fast, for debugging)  \n",
        "     - **execute**: performs real encrypted inference (slow, but privacy-preserving)  \n",
        "\n",
        "4. **Evaluation**  \n",
        "   - Compare accuracy in clear, simulate, and execute modes  \n",
        "   - Measure inference time and memory usage  \n",
        "   - Analyze prediction differences between clear, simulate, and execute  "
      ],
      "metadata": {
        "id": "8-aWI72AAU4s"
      }
    },
    {
      "cell_type": "code",
      "execution_count": 1,
      "metadata": {
        "id": "8PZ9ONhtw3eU"
      },
      "outputs": [],
      "source": [
        "import numpy as np\n",
        "import matplotlib.pyplot as plt\n",
        "import pandas as pd\n",
        "\n",
        "\n",
        "from sklearn.datasets import load_digits\n",
        "from sklearn.model_selection import train_test_split\n",
        "from sklearn.metrics import accuracy_score\n",
        "from sklearn.metrics import confusion_matrix, ConfusionMatrixDisplay\n",
        "\n",
        "\n",
        "from concrete.ml.sklearn import NeuralNetClassifier\n",
        "import torch, random, time, psutil, os, tracemalloc\n",
        "\n",
        "SEED = 42\n",
        "np.random.seed(SEED)\n",
        "random.seed(SEED)\n",
        "torch.manual_seed(SEED)\n",
        "\n",
        "# If you ever run on GPU and want determinism:\n",
        "torch.backends.cudnn.deterministic = True\n",
        "torch.backends.cudnn.benchmark = False"
      ]
    },
    {
      "cell_type": "markdown",
      "source": [
        "## Dataset preparation\n",
        "\n",
        "In this section, we load the **Digits dataset** from scikit-learn.  \n",
        "This dataset contains 8×8 grayscale images of handwritten digits (0–9), with each image represented by 64 features (pixel intensities).  \n",
        "It is a convenient *toy dataset* to validate our workflow before moving to larger datasets such as MNIST.\n",
        "\n",
        "We start by:\n",
        "- Loading the dataset and displaying its basic characteristics (number of samples, features, and classes).  \n",
        "- Visualizing a few sample digit images to get an intuition of the data.  \n",
        "- Plotting the distribution of classes to ensure the dataset is balanced.  \n",
        "- Normalizing the pixel values to the range [0, 1] for stable training.  \n",
        "- Splitting the dataset into **training (80%)** and **test (20%)** sets.  \n",
        "\n",
        "This preprocessing step ensures the data is ready for training the neural network under both cleartext and encrypted settings."
      ],
      "metadata": {
        "id": "u0426MjCBNIp"
      }
    },
    {
      "cell_type": "code",
      "execution_count": 2,
      "metadata": {
        "colab": {
          "base_uri": "https://localhost:8080/",
          "height": 991
        },
        "id": "kG8BM01Zwi56",
        "outputId": "b68e0283-c693-49d9-de58-d8159fff8ad2"
      },
      "outputs": [
        {
          "output_type": "stream",
          "name": "stdout",
          "text": [
            "Number of samples:  1797\n",
            "Number of features per sample:  64\n",
            "Number of classes:  10\n",
            "Classes: [0 1 2 3 4 5 6 7 8 9]\n"
          ]
        },
        {
          "output_type": "display_data",
          "data": {
            "text/plain": [
              "<Figure size 1000x200 with 10 Axes>"
            ],
            "image/png": "[encoded data removed]"
          },
          "metadata": {}
        },
        {
          "output_type": "stream",
          "name": "stdout",
          "text": [
            "Class distribution:\n",
            "0    178\n",
            "1    182\n",
            "2    177\n",
            "3    183\n",
            "4    181\n",
            "5    182\n",
            "6    181\n",
            "7    179\n",
            "8    174\n",
            "9    180\n",
            "Name: count, dtype: int64\n"
          ]
        },
        {
          "output_type": "display_data",
          "data": {
            "text/plain": [
              "<Figure size 640x480 with 1 Axes>"
            ],
            "image/png": "[encoded data removed]"
          },
          "metadata": {}
        },
        {
          "output_type": "stream",
          "name": "stdout",
          "text": [
            "Dataset ready for training\n",
            "X_train shape: (1437, 64)\n",
            "X_test shape: (360, 64)\n",
            "y_train shape: (1437,)\n",
            "y_test shape: (360,)\n"
          ]
        }
      ],
      "source": [
        "digits = load_digits()\n",
        "X, y = digits.data, digits.target\n",
        "\n",
        "print(\"Number of samples: \",X.shape[0])\n",
        "print(\"Number of features per sample: \",X.shape[1])\n",
        "print(\"Number of classes: \", len(np.unique(y)))\n",
        "print(\"Classes:\", np.unique(y))\n",
        "\n",
        "\n",
        "plt.figure(figsize=(10, 2))\n",
        "for i in range(10):\n",
        "    plt.subplot(1, 10, i + 1)\n",
        "    plt.imshow(digits.images[i], cmap='gray')\n",
        "    plt.title(str(y[i]))\n",
        "    plt.axis('off')\n",
        "plt.suptitle(\"Sample digit images\")\n",
        "plt.show()\n",
        "\n",
        "\n",
        "value_counts = pd.Series(y).value_counts().sort_index()\n",
        "print(\"Class distribution:\")\n",
        "print(value_counts)\n",
        "\n",
        "value_counts.plot(kind='bar', title=\"Digit class distribution\", xlabel=\"Digit\", ylabel=\"Count\")\n",
        "plt.show()\n",
        "\n",
        "# Normalizing the features to [0, 1]\n",
        "X /= 16.0\n",
        "\n",
        "# Train/test split\n",
        "X_train, X_test, y_train, y_test = train_test_split(X, y, test_size=0.2, random_state=42)\n",
        "\n",
        "# Confirming shapes\n",
        "print(\"Dataset ready for training\")\n",
        "print(\"X_train shape:\", X_train.shape)\n",
        "print(\"X_test shape:\", X_test.shape)\n",
        "print(\"y_train shape:\", y_train.shape)\n",
        "print(\"y_test shape:\", y_test.shape)"
      ]
    },
    {
      "cell_type": "markdown",
      "source": [
        "## Model definition and training in clear\n",
        "\n",
        "We now define a **quantized neural network** using the `NeuralNetClassifier` provided by Concrete-ML.  \n",
        "The architecture is a Multi-Layer Perceptron (MLP) with:\n",
        "- **2 hidden layers**,  \n",
        "- **5-bit quantization** for both weights and activations,  \n",
        "- **32-bit accumulators**,  \n",
        "- mini-batch training with size 32.  \n",
        "\n",
        "This model is first trained on the **training set in cleartext** to serve as a baseline.  \n",
        "We then evaluate its performance on the **test set**, computing the accuracy and analyzing how well the model recognizes digits before moving to encrypted inference."
      ],
      "metadata": {
        "id": "dcITqo3nBYv4"
      }
    },
    {
      "cell_type": "code",
      "execution_count": 3,
      "metadata": {
        "colab": {
          "base_uri": "https://localhost:8080/"
        },
        "id": "wsOEiGjs0vOw",
        "outputId": "fca6bdbc-1c5a-42b2-e195-d19f3faa748c"
      },
      "outputs": [
        {
          "output_type": "stream",
          "name": "stdout",
          "text": [
            "Training the model on clear data\n",
            "  epoch    train_loss    valid_acc    valid_loss     dur\n",
            "-------  ------------  -----------  ------------  ------\n",
            "      1        \u001b[36m0.9070\u001b[0m       \u001b[32m0.8993\u001b[0m        \u001b[35m0.3254\u001b[0m  0.4970\n",
            "      2        \u001b[36m0.2185\u001b[0m       \u001b[32m0.9410\u001b[0m        \u001b[35m0.1922\u001b[0m  0.4902\n",
            "      3        \u001b[36m0.1409\u001b[0m       \u001b[32m0.9583\u001b[0m        \u001b[35m0.1491\u001b[0m  0.4953\n",
            "      4        \u001b[36m0.1043\u001b[0m       \u001b[32m0.9722\u001b[0m        \u001b[35m0.1155\u001b[0m  0.4977\n",
            "      5        \u001b[36m0.0812\u001b[0m       0.9549        \u001b[35m0.1100\u001b[0m  0.4895\n",
            "      6        \u001b[36m0.0584\u001b[0m       0.9201        0.1935  0.4682\n",
            "      7        \u001b[36m0.0469\u001b[0m       0.9514        0.1362  0.4612\n",
            "      8        0.0493       0.9306        0.1975  0.4607\n",
            "      9        \u001b[36m0.0335\u001b[0m       0.9618        0.1554  0.4320\n",
            "     10        \u001b[36m0.0268\u001b[0m       0.9479        0.1299  0.4336\n",
            "Accuracy on clear test set: 97.22222222222221 %\n"
          ]
        }
      ],
      "source": [
        "# Model def\n",
        "\n",
        "model = NeuralNetClassifier(\n",
        "    module__n_layers=2,\n",
        "    module__n_w_bits=5,\n",
        "    module__n_a_bits=5,\n",
        "    module__n_accum_bits=32,\n",
        "    batch_size=32,\n",
        "    verbose=1\n",
        ")\n",
        "# Training\n",
        "print(\"Training the model on clear data\")\n",
        "model.fit(X_train, y_train)\n",
        "\n",
        "# Evaluating accuracy\n",
        "y_pred = model.predict(X_test)\n",
        "acc = accuracy_score(y_test, y_pred)\n",
        "print(\"Accuracy on clear test set:\", acc * 100, \"%\")"
      ]
    },
    {
      "cell_type": "code",
      "execution_count": 4,
      "metadata": {
        "colab": {
          "base_uri": "https://localhost:8080/",
          "height": 472
        },
        "id": "LR4hpA_-0wP1",
        "outputId": "e1b67458-2cd8-44fa-dc64-171e1dd5d412"
      },
      "outputs": [
        {
          "output_type": "display_data",
          "data": {
            "text/plain": [
              "<Figure size 640x480 with 2 Axes>"
            ],
            "image/png": "[encoded data removed]"
          },
          "metadata": {}
        }
      ],
      "source": [
        "# Insight into which digits are most often confused:\n",
        "\n",
        "cm = confusion_matrix(y_test, y_pred)\n",
        "disp = ConfusionMatrixDisplay(confusion_matrix=cm, display_labels=np.unique(y))\n",
        "disp.plot(cmap='Blues')\n",
        "plt.title(\"Confusion Matrix on Clear Test Data\")\n",
        "plt.show()"
      ]
    },
    {
      "cell_type": "code",
      "execution_count": 5,
      "metadata": {
        "colab": {
          "base_uri": "https://localhost:8080/",
          "height": 414
        },
        "id": "N4Ao0udvwuhd",
        "outputId": "bed874f8-b161-4405-e299-841ba4530a96"
      },
      "outputs": [
        {
          "output_type": "display_data",
          "data": {
            "text/plain": [
              "<Figure size 1000x400 with 10 Axes>"
            ],
            "image/png": "[encoded data removed]"
          },
          "metadata": {}
        }
      ],
      "source": [
        "# Correct and incorrect predictions\n",
        "plt.figure(figsize=(10, 4))\n",
        "for i in range(10):\n",
        "    plt.subplot(2, 5, i + 1)\n",
        "    plt.imshow(X_test[i].reshape(8, 8), cmap='gray')\n",
        "    plt.title(\"Pred: \" + str(y_pred[i]) + \"\\nTrue: \" + str(y_test[i]))\n",
        "    plt.axis('off')\n",
        "plt.suptitle(\"Sample Predictions on Clear Data\")\n",
        "plt.tight_layout()\n",
        "plt.show()"
      ]
    },
    {
      "cell_type": "code",
      "execution_count": 6,
      "metadata": {
        "id": "yGhZ6DPO1p6V",
        "colab": {
          "base_uri": "https://localhost:8080/"
        },
        "outputId": "760f1734-55d2-4a22-dbf4-f705a78e14d6"
      },
      "outputs": [
        {
          "output_type": "stream",
          "name": "stdout",
          "text": [
            "Number of misclassified samples: 10\n",
            "Index 133: Predicted 9, True 7\n",
            "Index 149: Predicted 5, True 3\n",
            "Index 156: Predicted 2, True 3\n",
            "Index 159: Predicted 7, True 9\n",
            "Index 166: Predicted 8, True 3\n"
          ]
        }
      ],
      "source": [
        "# Missclassifed samples:\n",
        "misclassified = np.where(y_pred != y_test)[0]\n",
        "print(\"Number of misclassified samples:\", len(misclassified))\n",
        "if len(misclassified) > 0:\n",
        "    for i in misclassified[:5]:\n",
        "        print(\"Index \" + str(i) + \": Predicted \" + str(y_pred[i]) + \", True \" + str(y_test[i]))"
      ]
    },
    {
      "cell_type": "markdown",
      "source": [
        "## Compilation to FHE and encrypted inference\n",
        "\n",
        "Once the model has been trained and validated in clear, we compile it into a circuit compatible with FHE using Concrete-ML.  \n",
        "This step translates the neural network into a form that can be evaluated directly on encrypted data.\n",
        "\n",
        "We then evaluate the model in two modes:\n",
        "\n",
        "1. **Simulation (`fhe=\"simulate\"`)**  \n",
        "   - Runs the encrypted circuit on plaintext data.  \n",
        "   - Useful for checking correctness and debugging.  \n",
        "   - Provides the same accuracy as real FHE but with much lower runtime and memory usage.  \n",
        "\n",
        "2. **Execution (`fhe=\"execute\"`)**  \n",
        "   - Performs real homomorphic inference on encrypted data.  \n",
        "   - This is the *true* privacy-preserving mode, but it is significantly slower and more memory-intensive.  \n",
        "\n",
        "During these runs, we measure:  \n",
        "- **Accuracy** on the test set to compare with the clear baseline.  \n",
        "- **Inference time** (total and per sample) to quantify computational cost.  \n",
        "- **Memory usage**, including Python allocator peak and OS-level resident set size (RSS).  \n",
        "- **Prediction agreement** between clear, simulate, and execute modes to verify that encrypted inference produces identical results to the clear model.\n"
      ],
      "metadata": {
        "id": "Wc09YaOiBlDp"
      }
    },
    {
      "cell_type": "code",
      "execution_count": 7,
      "metadata": {
        "colab": {
          "base_uri": "https://localhost:8080/"
        },
        "id": "Zme09hHr3SXb",
        "outputId": "538c5d86-b207-486c-9978-f21e781fe662"
      },
      "outputs": [
        {
          "output_type": "stream",
          "name": "stdout",
          "text": [
            "Compiling model to FHE:\n",
            "Compile time (s): 1.97\n",
            "\n",
            "Running FHE SIMULATION on full test set (360 samples)\n",
            "Accuracy (simulate): 97.22222222222221 %\n",
            "Total time (simulate): 26.834519624710083 s\n",
            "Avg. time/sample (simulate): 0.07454033229086134 s\n",
            "\n",
            "Running REAL FHE EXECUTION on full test set (360 samples)\n",
            "Accuracy (execute): 97.22222222222221 %\n",
            "Total time (execute): 1639.4104526042938 s\n",
            "Avg. time/sample (execute): 4.5539179239008165 s\n",
            "Python-level peak (tracemalloc): 0.607795 MB\n",
            "RSS before: 937.5744 MB | RSS after: 2595.9424 MB\n",
            "\n",
            "Prediction differences:\n",
            "simulate vs clear: 0\n",
            "execute  vs clear: 0\n",
            "execute  vs simulate: 0\n"
          ]
        }
      ],
      "source": [
        "# Compiling\n",
        "print(\"Compiling model to FHE:\")\n",
        "t0_compile = time.time()\n",
        "model.compile(X_train)\n",
        "t1_compile = time.time()\n",
        "compile_time = t1_compile - t0_compile\n",
        "print(\"Compile time (s):\", round(compile_time, 2))\n",
        "\n",
        "# Simulation run\n",
        "print(\"\\nRunning FHE SIMULATION on full test set ({} samples)\".format(len(X_test)))\n",
        "t0_sim = time.time()\n",
        "y_pred_sim = model.predict(X_test, fhe=\"simulate\")\n",
        "t1_sim = time.time()\n",
        "sim_time = t1_sim - t0_sim\n",
        "sim_acc = accuracy_score(y_test, y_pred_sim)\n",
        "print(\"Accuracy (simulate):\", sim_acc * 100.0, \"%\")\n",
        "print(\"Total time (simulate):\", sim_time, \"s\")\n",
        "print(\"Avg. time/sample (simulate):\", sim_time / len(X_test), \"s\")\n",
        "\n",
        "\n",
        "\n",
        "# Real FHE execution\n",
        "print(\"\\nRunning REAL FHE EXECUTION on full test set ({} samples)\".format(len(X_test)))\n",
        "\n",
        "# Peak memory via tracemalloc\n",
        "tracemalloc.start()\n",
        "proc = psutil.Process(os.getpid())\n",
        "rss_before = proc.memory_info().rss\n",
        "\n",
        "t0_exec = time.time()\n",
        "y_pred_fhe = model.predict(X_test, fhe=\"execute\")   # real FHE\n",
        "t1_exec = time.time()\n",
        "\n",
        "current_bytes, peak_bytes = tracemalloc.get_traced_memory()\n",
        "tracemalloc.stop()\n",
        "rss_after = proc.memory_info().rss\n",
        "\n",
        "exec_time = t1_exec - t0_exec\n",
        "exec_acc = accuracy_score(y_test, y_pred_fhe)\n",
        "print(\"Accuracy (execute):\", exec_acc * 100.0, \"%\")\n",
        "print(\"Total time (execute):\", exec_time, \"s\")\n",
        "print(\"Avg. time/sample (execute):\", exec_time / len(X_test), \"s\")\n",
        "\n",
        "\n",
        "# Memory notes:\n",
        "# peak_bytes is Python allocator peak (underestimates native/C++ buffers)\n",
        "# - rss_* are OS-level resident memory snapshots (not true peak)\n",
        "print(\"Python-level peak (tracemalloc):\", peak_bytes / 1e6, \"MB\")\n",
        "print(\"RSS before:\", rss_before / 1e6, \"MB | RSS after:\", rss_after / 1e6, \"MB\")\n",
        "\n",
        "\n",
        "# Agreement analysis\n",
        "diff_sim_clear = int(np.sum(y_pred_sim != y_pred))\n",
        "diff_exec_clear = int(np.sum(y_pred_fhe != y_pred))\n",
        "diff_exec_sim   = int(np.sum(y_pred_fhe != y_pred_sim))\n",
        "\n",
        "print(\"\\nPrediction differences:\")\n",
        "print(\"simulate vs clear:\", diff_sim_clear)\n",
        "print(\"execute  vs clear:\", diff_exec_clear)\n",
        "print(\"execute  vs simulate:\", diff_exec_sim)\n",
        "\n",
        "# metrics\n",
        "METRICS = {\n",
        "    \"compile_time\": compile_time,\n",
        "    \"clear_acc\": float(accuracy_score(y_test, y_pred)),\n",
        "    \"sim_acc\": float(sim_acc),\n",
        "    \"exec_acc\": float(exec_acc),\n",
        "    \"sim_time\": float(sim_time),\n",
        "    \"exec_time\": float(exec_time),\n",
        "    \"sim_time_per_sample\": float(sim_time / len(X_test)),\n",
        "    \"exec_time_per_sample\": float(exec_time / len(X_test)),\n",
        "    \"py_peak_mb\": float(peak_bytes / 1e6),\n",
        "    \"rss_before_mb\": float(rss_before / 1e6),\n",
        "    \"rss_after_mb\": float(rss_after / 1e6),\n",
        "    \"diff_sim_clear\": diff_sim_clear,\n",
        "    \"diff_exec_clear\": diff_exec_clear,\n",
        "    \"diff_exec_sim\": diff_exec_sim,\n",
        "    \"n_test\": int(len(X_test)),\n",
        "}"
      ]
    },
    {
      "cell_type": "markdown",
      "source": [
        "## Results and analysis\n",
        "\n",
        "The results show that **encrypted inference with FHE** achieves the same accuracy as clear inference:\n",
        "\n",
        "- Accuracy remains stable across all modes (approximately 97.2%), with no prediction differences between *clear*, *simulate*, and *execute*.  \n",
        "- This demonstrates that compiling the neural network to FHE preserves correctness.\n",
        "\n",
        "However, there is a **significant performance gap** between simulation and real FHE execution:\n",
        "\n",
        "- **Simulation** completed in approximately 27 seconds (~0.07 s/sample), which is relatively fast and useful for debugging.  \n",
        "- **Execution** on real encrypted data required  approximately 1640 seconds (~4.55 s/sample), which is several orders of magnitude slower.  \n",
        "- **Memory usage** also increased, with the resident set size (RSS) growing from around 938 MB to around 2.6 GB during execution.\n",
        "\n",
        "These results illustrate a fundamental trade-off of homomorphic encryption:\n",
        "- **Strong privacy guarantees** (data remains encrypted throughout computation).  \n",
        "- **High computational overhead** in terms of runtime and memory.  \n",
        "\n",
        "This toy example validates the feasibility of FHE-based inference while highlighting the efficiency challenges that remain before scaling to larger models and datasets.\n"
      ],
      "metadata": {
        "id": "CqgI5QaN_4pj"
      }
    },
    {
      "cell_type": "code",
      "execution_count": 10,
      "metadata": {
        "colab": {
          "base_uri": "https://localhost:8080/"
        },
        "id": "L-5vZCl99L44",
        "outputId": "9e3e83b4-04c9-418a-b910-84f817bcf5b7"
      },
      "outputs": [
        {
          "output_type": "stream",
          "name": "stdout",
          "text": [
            "Summary: Toy Digits Neural Network under FHE\n",
            "Model: MLP with 2 hidden layers, 5-bit weights/activations, 32-bit accumulators\n",
            "Train/Test: 1437 / 360 samples\n",
            "\n",
            "Accuracy:\n",
            " - Clear (quantized): 97.22222222222221 %\n",
            " - Simulate (FHE circuit, plaintext): 97.22222222222221 %\n",
            " - Execute (REAL FHE): 97.22222222222221 %\n",
            "\n",
            "Timing:\n",
            " - Compile time: 1.9689881801605225 s\n",
            " - Simulate total: 26.834519624710083 s  | per sample: 0.07454033229086134 s\n",
            " - Execute  total: 1639.4104526042938 s  | per sample: 4.5539179239008165 s\n",
            "\n",
            "Memory:\n",
            " - Python allocator peak (tracemalloc): 0.607795 MB\n",
            " - RSS before / after execute: 937.5744 / 2595.9424 MB\n",
            "\n",
            "Prediction agreement (counts over 360 test samples):\n",
            " - simulate vs clear:    0\n",
            " - execute  vs clear:    0\n",
            " - execute  vs simulate: 0\n"
          ]
        }
      ],
      "source": [
        "print(\"Summary: Toy Digits Neural Network under FHE\")\n",
        "print(\"Model: MLP with 2 hidden layers, 5-bit weights/activations, 32-bit accumulators\")\n",
        "print(\"Train/Test:\", len(X_train), \"/\", len(X_test), \"samples\")\n",
        "\n",
        "print(\"\\nAccuracy:\")\n",
        "print(\" - Clear (quantized):\", METRICS[\"clear_acc\"] * 100.0, \"%\")\n",
        "print(\" - Simulate (FHE circuit, plaintext):\", METRICS[\"sim_acc\"] * 100.0, \"%\")\n",
        "print(\" - Execute (REAL FHE):\", METRICS[\"exec_acc\"] * 100.0, \"%\")\n",
        "\n",
        "print(\"\\nTiming:\")\n",
        "print(\" - Compile time:\", METRICS[\"compile_time\"], \"s\")\n",
        "print(\" - Simulate total:\", METRICS[\"sim_time\"], \"s  | per sample:\", METRICS[\"sim_time_per_sample\"], \"s\")\n",
        "print(\" - Execute  total:\", METRICS[\"exec_time\"], \"s  | per sample:\", METRICS[\"exec_time_per_sample\"], \"s\")\n",
        "\n",
        "print(\"\\nMemory:\")\n",
        "print(\" - Python allocator peak (tracemalloc):\", METRICS[\"py_peak_mb\"], \"MB\")\n",
        "print(\" - RSS before / after execute:\", METRICS[\"rss_before_mb\"], \"/\", METRICS[\"rss_after_mb\"], \"MB\")\n",
        "\n",
        "print(\"\\nPrediction agreement (counts over\", METRICS[\"n_test\"], \"test samples):\")\n",
        "print(\" - simulate vs clear:   \", METRICS[\"diff_sim_clear\"])\n",
        "print(\" - execute  vs clear:   \", METRICS[\"diff_exec_clear\"])\n",
        "print(\" - execute  vs simulate:\", METRICS[\"diff_exec_sim\"])"
      ]
    }
  ],
  "metadata": {
    "accelerator": "TPU",
    "colab": {
      "gpuType": "V28",
      "provenance": []
    },
    "kernelspec": {
      "display_name": "Python 3",
      "name": "python3"
    },
    "language_info": {
      "name": "python"
    }
  },
  "nbformat": 4,
  "nbformat_minor": 0
}